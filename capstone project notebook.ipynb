##this is for capstone project
